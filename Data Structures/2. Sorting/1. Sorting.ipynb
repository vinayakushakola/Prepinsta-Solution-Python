{
 "cells": [
  {
   "cell_type": "markdown",
   "metadata": {},
   "source": [
    "# Bubble Sort"
   ]
  },
  {
   "cell_type": "code",
   "execution_count": 1,
   "metadata": {},
   "outputs": [],
   "source": [
    "def BubbleSort(list):\n",
    "    for i in range(len(list)-1, 0, -1):\n",
    "        for j in range(i):\n",
    "            if list[j] > list[j+1]:\n",
    "                temp = list[j]\n",
    "                list[j] = list[j+1]\n",
    "                list[j+1] = temp\n",
    "    return list"
   ]
  },
  {
   "cell_type": "code",
   "execution_count": 2,
   "metadata": {},
   "outputs": [
    {
     "data": {
      "text/plain": [
       "[2, 3, 4, 5, 6, 7, 8]"
      ]
     },
     "execution_count": 2,
     "metadata": {},
     "output_type": "execute_result"
    }
   ],
   "source": [
    "num = [3,5,4,7,6,8,2]\n",
    "BubbleSort(num)"
   ]
  },
  {
   "cell_type": "markdown",
   "metadata": {},
   "source": [
    "# Insertion Sort"
   ]
  },
  {
   "cell_type": "code",
   "execution_count": 14,
   "metadata": {},
   "outputs": [],
   "source": [
    "def InsertionSort(list):\n",
    "    for i in range(1, len(list)):\n",
    "        curr_ele = list[i]\n",
    "        pos = i\n",
    "        while (curr_ele < list[pos-1]) and pos > 0:\n",
    "            list[pos] = list[pos-1]\n",
    "            pos -= 1\n",
    "        list[pos] = curr_ele\n",
    "    print(list)"
   ]
  },
  {
   "cell_type": "code",
   "execution_count": 15,
   "metadata": {},
   "outputs": [
    {
     "name": "stdout",
     "output_type": "stream",
     "text": [
      "[2, 3, 4, 5, 6, 7, 8]\n"
     ]
    }
   ],
   "source": [
    "num = [3,5,4,7,6,8,2]\n",
    "InsertionSort(num)"
   ]
  },
  {
   "cell_type": "markdown",
   "metadata": {},
   "source": [
    "# SelectionSort"
   ]
  },
  {
   "cell_type": "code",
   "execution_count": 19,
   "metadata": {},
   "outputs": [
    {
     "name": "stdout",
     "output_type": "stream",
     "text": [
      "[2, 3, 4, 5, 6, 7, 8]\n"
     ]
    }
   ],
   "source": [
    "def SelectionSort(num):\n",
    "    length = len(num) # length of the list\n",
    "    for i in range(length-1):\n",
    "        min = i\n",
    "        for  j in range(i, length):\n",
    "            if num[j] < num[min]:\n",
    "                min = j\n",
    "        \n",
    "        temp = num[i]\n",
    "        num[i] = num[min]\n",
    "        num[min] = temp\n",
    "    print(num)\n",
    "num = [3,5,4,7,6,8,2]\n",
    "SelectionSort(num)"
   ]
  },
  {
   "cell_type": "code",
   "execution_count": 20,
   "metadata": {},
   "outputs": [
    {
     "name": "stdout",
     "output_type": "stream",
     "text": [
      "[2, 3, 4, 5, 6, 7, 8]\n"
     ]
    }
   ],
   "source": [
    "num = [3,5,4,7,6,8,2]\n",
    "SelectionSort(num)"
   ]
  },
  {
   "cell_type": "code",
   "execution_count": null,
   "metadata": {},
   "outputs": [],
   "source": []
  }
 ],
 "metadata": {
  "kernelspec": {
   "display_name": "Python 3",
   "language": "python",
   "name": "python3"
  },
  "language_info": {
   "codemirror_mode": {
    "name": "ipython",
    "version": 3
   },
   "file_extension": ".py",
   "mimetype": "text/x-python",
   "name": "python",
   "nbconvert_exporter": "python",
   "pygments_lexer": "ipython3",
   "version": "3.7.3"
  }
 },
 "nbformat": 4,
 "nbformat_minor": 2
}

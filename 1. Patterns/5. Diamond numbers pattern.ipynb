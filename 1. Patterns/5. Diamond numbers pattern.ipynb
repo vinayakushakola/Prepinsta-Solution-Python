{
 "cells": [
  {
   "cell_type": "markdown",
   "metadata": {},
   "source": [
    "# Diamond numbers pattern"
   ]
  },
  {
   "cell_type": "code",
   "execution_count": 17,
   "metadata": {},
   "outputs": [
    {
     "name": "stdout",
     "output_type": "stream",
     "text": [
      "Enter num of rows: 5\n",
      "     1\n",
      "    222\n",
      "   33333\n",
      "  4444444\n",
      " 555555555\n",
      "  4444444\n",
      "   33333\n",
      "    222\n",
      "     1\n"
     ]
    }
   ],
   "source": [
    "n = int(input(\"Enter num of rows: \"))\n",
    "count = 1\n",
    "for i in range(n):\n",
    "    for j in range(n-i):\n",
    "        print(end=\" \")\n",
    "    for k in range(count):\n",
    "        print(i+1, end=\"\")\n",
    "    count += 2\n",
    "    print()\n",
    "count2 = n+n-3\n",
    "op = n-1\n",
    "for i in range(n-1):\n",
    "    for j in range(i+2):\n",
    "        print(\" \", end=\"\")\n",
    "    for k in range(count2):\n",
    "        print(op, end=\"\")\n",
    "    count2 -= 2\n",
    "    op -= 1\n",
    "    print()"
   ]
  },
  {
   "cell_type": "code",
   "execution_count": 1,
   "metadata": {},
   "outputs": [
    {
     "name": "stdout",
     "output_type": "stream",
     "text": [
      "Enter num of rows: 6\n",
      "      1\n",
      "     222\n",
      "    33333\n",
      "   4444444\n",
      "  555555555\n",
      " 66666666666\n",
      "  555555555\n",
      "   4444444\n",
      "    33333\n",
      "     222\n",
      "      1\n"
     ]
    }
   ],
   "source": [
    "n = int(input(\"Enter num of rows: \"))\n",
    "count = 1\n",
    "for i in range(n):\n",
    "    for j in range(n-i):\n",
    "        print(end=\" \")\n",
    "    for k in range(count):\n",
    "        print(i+1, end=\"\")\n",
    "    count += 2\n",
    "    print()\n",
    "count2 = n+n-3\n",
    "op = n-1\n",
    "for i in range(n-1):\n",
    "    for j in range(i+2):\n",
    "        print(\" \", end=\"\")\n",
    "    for k in range(count2):\n",
    "        print(op, end=\"\")\n",
    "    count2 -= 2\n",
    "    op -= 1\n",
    "    print()"
   ]
  },
  {
   "cell_type": "code",
   "execution_count": null,
   "metadata": {},
   "outputs": [],
   "source": []
  }
 ],
 "metadata": {
  "kernelspec": {
   "display_name": "Python 3",
   "language": "python",
   "name": "python3"
  },
  "language_info": {
   "codemirror_mode": {
    "name": "ipython",
    "version": 3
   },
   "file_extension": ".py",
   "mimetype": "text/x-python",
   "name": "python",
   "nbconvert_exporter": "python",
   "pygments_lexer": "ipython3",
   "version": "3.7.3"
  }
 },
 "nbformat": 4,
 "nbformat_minor": 2
}

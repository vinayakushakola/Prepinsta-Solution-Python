{
 "cells": [
  {
   "cell_type": "markdown",
   "metadata": {},
   "source": [
    "# Pyramid number pattern"
   ]
  },
  {
   "cell_type": "code",
   "execution_count": 5,
   "metadata": {},
   "outputs": [
    {
     "name": "stdout",
     "output_type": "stream",
     "text": [
      "Enter num of rows: 5\n",
      "1 \n",
      "2 3 \n",
      "4 5 6 \n",
      "7 8 9 10 \n",
      "11 12 13 14 15 \n"
     ]
    }
   ],
   "source": [
    "n = int(input(\"Enter num of rows: \"))\n",
    "count = 1\n",
    "for i in range(n):\n",
    "    for j in range(i+1):\n",
    "        print(f'{count} ', end=\"\")\n",
    "        count += 1\n",
    "    print()"
   ]
  },
  {
   "cell_type": "code",
   "execution_count": 12,
   "metadata": {},
   "outputs": [
    {
     "name": "stdout",
     "output_type": "stream",
     "text": [
      "Enter num of rows: 4\n",
      "        1   \n",
      "      2   3   \n",
      "    4   5   6   \n",
      "  7   8   9   10   \n"
     ]
    }
   ],
   "source": [
    "n = int(input(\"Enter num of rows: \"))\n",
    "count = 1\n",
    "for i in range(n):\n",
    "    for k in range(n-i):\n",
    "        print(end=\"  \")\n",
    "    for j in range(i+1):\n",
    "        print(f'{count}   ', end=\"\")\n",
    "        count += 1\n",
    "    print()"
   ]
  },
  {
   "cell_type": "code",
   "execution_count": 14,
   "metadata": {},
   "outputs": [
    {
     "name": "stdout",
     "output_type": "stream",
     "text": [
      "Enter num of rows: 5\n",
      "1 \n",
      "1 2 \n",
      "1 2 3 \n",
      "1 2 3 4 \n",
      "1 2 3 4 5 \n"
     ]
    }
   ],
   "source": [
    "n = int(input(\"Enter num of rows: \"))\n",
    "for i in range(n):\n",
    "    for j in range(i+1):\n",
    "        print(f'{j+1} ', end=\"\")\n",
    "    print()"
   ]
  },
  {
   "cell_type": "code",
   "execution_count": 14,
   "metadata": {},
   "outputs": [
    {
     "name": "stdout",
     "output_type": "stream",
     "text": [
      "Enter num of rows: 5\n",
      "1 2 3 4 \n",
      "1 2 3 \n",
      "1 2 \n",
      "1 \n"
     ]
    }
   ],
   "source": [
    "n = int(input(\"Enter num of rows: \"))\n",
    "for i in range(1, n):\n",
    "    for j in range(n-i):\n",
    "        print(f'{j+1} ', end=\"\")\n",
    "    print()"
   ]
  },
  {
   "cell_type": "code",
   "execution_count": null,
   "metadata": {},
   "outputs": [],
   "source": []
  },
  {
   "cell_type": "code",
   "execution_count": 8,
   "metadata": {},
   "outputs": [
    {
     "name": "stdout",
     "output_type": "stream",
     "text": [
      "Enter num of rows: 4\n",
      "    1 \n",
      "   2 3 \n",
      "  4 5 6 \n",
      " 7 8 9 10 \n"
     ]
    }
   ],
   "source": [
    "n = int(input(\"Enter num of rows: \"))\n",
    "count = 1\n",
    "for i in range(n):\n",
    "    for k in range(n-i):\n",
    "        print(end=\" \")\n",
    "    for j in range(i+1):\n",
    "        print(f'{count} ', end=\"\")\n",
    "        count += 1\n",
    "    print()"
   ]
  },
  {
   "cell_type": "code",
   "execution_count": null,
   "metadata": {},
   "outputs": [],
   "source": []
  }
 ],
 "metadata": {
  "kernelspec": {
   "display_name": "Python 3",
   "language": "python",
   "name": "python3"
  },
  "language_info": {
   "codemirror_mode": {
    "name": "ipython",
    "version": 3
   },
   "file_extension": ".py",
   "mimetype": "text/x-python",
   "name": "python",
   "nbconvert_exporter": "python",
   "pygments_lexer": "ipython3",
   "version": "3.7.3"
  }
 },
 "nbformat": 4,
 "nbformat_minor": 2
}

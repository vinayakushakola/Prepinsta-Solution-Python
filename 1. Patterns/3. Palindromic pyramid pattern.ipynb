{
 "cells": [
  {
   "cell_type": "markdown",
   "metadata": {},
   "source": [
    "# Palindromic pyramid pattern"
   ]
  },
  {
   "cell_type": "code",
   "execution_count": 1,
   "metadata": {},
   "outputs": [
    {
     "name": "stdout",
     "output_type": "stream",
     "text": [
      "Enter num of rows: 5\n",
      "    1\n",
      "   212\n",
      "  32123\n",
      " 4321234\n",
      "543212345\n"
     ]
    }
   ],
   "source": [
    "n = int(input(\"Enter num of rows: \"))\n",
    "for i in range(1,n+1):\n",
    "    for j in range(n-i):\n",
    "        print(end=\" \")\n",
    "    for k in range(i,0,-1):\n",
    "        print(k, end=\"\")\n",
    "    for l in range(2,i+1):\n",
    "        print(l, end=\"\")\n",
    "    print()"
   ]
  },
  {
   "cell_type": "code",
   "execution_count": 2,
   "metadata": {},
   "outputs": [
    {
     "name": "stdout",
     "output_type": "stream",
     "text": [
      "Enter num of rows: 5\n",
      "    1\n",
      "   121\n",
      "  12321\n",
      " 1234321\n",
      "123454321\n"
     ]
    }
   ],
   "source": [
    "n = int(input(\"Enter num of rows: \"))\n",
    "for i in range(1,n+1):\n",
    "    for j in range(n-i):\n",
    "        print(end=\" \")\n",
    "    for k in range(i):\n",
    "        print(k+1, end=\"\")\n",
    "    for l in range(i-1,0,-1):\n",
    "        print(l, end=\"\")\n",
    "    print()"
   ]
  },
  {
   "cell_type": "code",
   "execution_count": 5,
   "metadata": {},
   "outputs": [
    {
     "name": "stdout",
     "output_type": "stream",
     "text": [
      "Enter num of rows: 5\n",
      "    1\n",
      "   121\n",
      "  12321\n",
      " 1234321\n"
     ]
    }
   ],
   "source": [
    "n = int(input(\"Enter num of rows: \"))\n",
    "for i in range(1,n):\n",
    "    for j in range(n-i):\n",
    "        print(end=\" \")\n",
    "    for k in range(i):\n",
    "        print(k+1, end=\"\")\n",
    "    for l in range(i-1,0,-1):\n",
    "        print(l, end=\"\")\n",
    "    print()"
   ]
  },
  {
   "cell_type": "code",
   "execution_count": null,
   "metadata": {},
   "outputs": [],
   "source": []
  }
 ],
 "metadata": {
  "kernelspec": {
   "display_name": "Python 3",
   "language": "python",
   "name": "python3"
  },
  "language_info": {
   "codemirror_mode": {
    "name": "ipython",
    "version": 3
   },
   "file_extension": ".py",
   "mimetype": "text/x-python",
   "name": "python",
   "nbconvert_exporter": "python",
   "pygments_lexer": "ipython3",
   "version": "3.7.3"
  }
 },
 "nbformat": 4,
 "nbformat_minor": 2
}

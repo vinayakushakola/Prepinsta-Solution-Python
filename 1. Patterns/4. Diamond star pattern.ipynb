{
 "cells": [
  {
   "cell_type": "markdown",
   "metadata": {},
   "source": [
    "# Diamond star pattern"
   ]
  },
  {
   "cell_type": "code",
   "execution_count": 9,
   "metadata": {},
   "outputs": [
    {
     "name": "stdout",
     "output_type": "stream",
     "text": [
      "Enter num of rows: 9\n",
      "     * \n",
      "    * * \n",
      "   * * * \n",
      "  * * * * \n",
      " * * * * * \n",
      "  * * * * \n",
      "   * * * \n",
      "    * * \n",
      "     * \n"
     ]
    }
   ],
   "source": [
    "n = int(input(\"Enter num of rows: \"))\n",
    "n1 = (n//2)+1\n",
    "n2 = n//2\n",
    "for i in range(n1):\n",
    "    for j in range(n1-i):\n",
    "        print(\" \", end=\"\")\n",
    "    for k in range(i+1):\n",
    "        print(\"* \", end=\"\")\n",
    "    print()\n",
    "for i in range(n2):\n",
    "    for j in range(i+2):\n",
    "        print(\" \", end=\"\")\n",
    "    for k in range(n2-i):\n",
    "        print(\"* \", end=\"\")\n",
    "    print()"
   ]
  },
  {
   "cell_type": "code",
   "execution_count": 3,
   "metadata": {},
   "outputs": [
    {
     "name": "stdout",
     "output_type": "stream",
     "text": [
      "Enter num of rows: 9\n",
      "     *\n",
      "    ***\n",
      "   *****\n",
      "  *******\n",
      " *********\n",
      "  *******\n",
      "   *****\n",
      "    ***\n",
      "     *\n"
     ]
    }
   ],
   "source": [
    "n = int(input(\"Enter num of rows: \"))\n",
    "n1 = (n//2)+1\n",
    "n2 = n//2\n",
    "star1 = 1\n",
    "star2 = n-2\n",
    "for i in range(n1):\n",
    "    for j in range(n1-i):\n",
    "        print(\" \", end=\"\")\n",
    "    for k in range(star1):\n",
    "        print(\"*\", end=\"\")\n",
    "    star1 += 2\n",
    "    print()\n",
    "for i in range(n2):\n",
    "    for j in range(i+2):\n",
    "        print(\" \", end=\"\")\n",
    "    for k in range(star2):\n",
    "        print(\"*\", end=\"\")\n",
    "    star2 -= 2\n",
    "    print()"
   ]
  },
  {
   "cell_type": "code",
   "execution_count": 17,
   "metadata": {},
   "outputs": [
    {
     "name": "stdout",
     "output_type": "stream",
     "text": [
      "     *\n",
      "    ***\n",
      "   *****\n",
      "  *******\n",
      " *********\n",
      "  *******\n",
      "   *****\n",
      "    ***\n",
      "     *\n"
     ]
    }
   ],
   "source": [
    "n = 6\n",
    "count = 1\n",
    "for i in range(1, n):\n",
    "    for j in range(n-i):\n",
    "        print(end=\" \")\n",
    "    for k in range(count):\n",
    "        print(\"*\", end=\"\")\n",
    "    count += 2\n",
    "    print()\n",
    "inc = 1\n",
    "count2 = n + inc\n",
    "for i in range(1,n-1):\n",
    "    for j in range(i+1):\n",
    "        print(end=\" \")\n",
    "    for k in range(count2):\n",
    "        print(\"*\", end=\"\")\n",
    "    count2 -= 2\n",
    "    inc += 1\n",
    "    print()"
   ]
  },
  {
   "cell_type": "code",
   "execution_count": null,
   "metadata": {},
   "outputs": [],
   "source": []
  }
 ],
 "metadata": {
  "kernelspec": {
   "display_name": "Python 3",
   "language": "python",
   "name": "python3"
  },
  "language_info": {
   "codemirror_mode": {
    "name": "ipython",
    "version": 3
   },
   "file_extension": ".py",
   "mimetype": "text/x-python",
   "name": "python",
   "nbconvert_exporter": "python",
   "pygments_lexer": "ipython3",
   "version": "3.7.3"
  }
 },
 "nbformat": 4,
 "nbformat_minor": 2
}
